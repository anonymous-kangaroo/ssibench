{
  "cells": [
    {
      "cell_type": "raw",
      "id": "5eeeeffd",
      "metadata": {},
      "source": [
        "---\n",
        "format: html\n",
        "---"
      ]
    },
    {
      "cell_type": "markdown",
      "id": "1b487838",
      "metadata": {},
      "source": [
        "# SSIBench: Benchmarking Self-Supervised Learning Methods for Accelerated MRI Reconstruction\n",
        "\n",
        "> SSIBench is a modular benchmark for learning to solve imaging inverse problems without ground truth, applied to accelerated MRI reconstruction.\n",
        "\n",
        "**Anonymous authors**.\n",
        "\n",
        "[![Code](https://img.shields.io/badge/GitHub-Code-blue.svg)](https://github.com/anonymous-kangaroo/ssibench)\n",
        "[![Benchmark](https://img.shields.io/badge/Web-Benchmark-ff69b4.svg)](https://anonymous-kangaroo.github.io/ssibench)"
      ]
    },
    {
      "cell_type": "raw",
      "id": "32aaf349",
      "metadata": {},
      "source": [
        "---\n",
        "\n",
        "![](img/ssibench.svg)\n",
        "\n",
        "Skip to...\n",
        "\n",
        "1. [Overview](#overview)\n",
        "2. [How to...](#how-to)  \n",
        "    a. [...use the benchmark](#how-to-use-the-benchmark)  \n",
        "    b. [...contribute a method](#how-to-contribute-a-method)  \n",
        "    c. [...use a custom dataset](#how-to-use-a-custom-dataset), [model](#how-to-use-a-custom-model), [forward operator/acquisition strategy](#how-to-use-a-custom-forward-operatoracquisition-strategy), [metric](#how-to-use-a-custom-metric)  \n",
        "3. [Live leaderboard](#live-leaderboard)\n",
        "4. [Training script step-by-step](#training-script-step-by-step)\n",
        "5. [Dataset preparation instructions](#dataset-preparation-instructions)\n",
        "\n",
        "---"
      ]
    },
    {
      "cell_type": "markdown",
      "id": "f15eba9a",
      "metadata": {},
      "source": [
        "## Overview\n",
        "\n",
        "SSIBench is a modular benchmark for learning to solve imaging inverse problems without ground truth, applied to accelerated MRI reconstruction. We contribute:\n",
        "\n",
        "1. A comprehensive review of state-of-the-art self-supervised feedforward methods for inverse problems;\n",
        "2. Well-documented implementations of all benchmarked methods in the open-source [DeepInverse](https://deepinv.github.io/) library, and a modular [benchmark site](https://anonymous-kangaroo.github.io/ssibench) enabling ML researchers to evaluate new methods or on custom setups and datasets;\n",
        "3. Benchmarking experiments on MRI, on a standardised setup across multiple realistic, general scenarios;\n",
        "4. A new method, multi-operator equivariant imaging (MO-EI)."
      ]
    },
    {
      "cell_type": "raw",
      "id": "31938726",
      "metadata": {},
      "source": [
        "---\n",
        "\n",
        "## How to…\n",
        "\n",
        "### How to use the benchmark\n",
        "\n",
        "First setup your environment:\n",
        "\n",
        "1. Create a python environment:\n",
        "```bash\n",
        "python -m venv venv\n",
        "source venv/Scripts/activate\n",
        "```\n",
        "2. Clone the benchmark repo:\n",
        "```bash\n",
        "git clone https://github.com/anonymous-kangaroo/ssibench.git\n",
        "```\n",
        "3. Install [DeepInverse](https://deepinv.github.io/)\n",
        "```bash\n",
        "pip install deepinv   # Stable\n",
        "pip install git+https://github.com/deepinv/deepinv.git#egg=deepinv   # Nightly\n",
        "```\n",
        "4. Prepare your [fastMRI](https://fastmri.med.nyu.edu/) data using the [below instructions](#dataset-preparation-instructions).\n",
        "\n",
        "Then run [`train.py`](https://github.com/anonymous-kangaroo/ssibench/blob/main/train.py) for your chosen loss, where `--loss` is the loss function (`mc`, `ei` etc.), and `--physics` is the physics (see [`train.py`](https://github.com/anonymous-kangaroo/ssibench/blob/main/train.py) for options):\n",
        "\n",
        "```bash\n",
        "python train.py --loss ... --physics ...\n",
        "```\n",
        "\n",
        "To evaluate, use the same script [`train.py`](https://github.com/anonymous-kangaroo/ssibench/blob/main/train.py) with 0 epochs and loading a checkpoint. We provide one pretrained model for quick eval:\n",
        "\n",
        "```bash\n",
        "python train.py --epochs 0 --ckpt \"demo_mo-ei.pth.tar\"\n",
        "```\n",
        "\n",
        "Notation: in our benchmark, we compare the `loss` functions $\\mathcal{L}(\\ldots)$, while keeping constant the `model` $f_\\theta$, forward operator `physics` $A$, and data $y$.\n",
        "\n",
        "### How to contribute a method\n",
        "\n",
        "1. Add the code for your loss in the format:\n",
        "```python\n",
        "class YourOwnLoss(deepinv.loss.Loss):\n",
        "    def forward(\n",
        "        self, \n",
        "        x_net: torch.Tensor,    # Reconstruction i.e. model output\n",
        "        y: torch.Tensor,        # Measurement data e.g. k-space in MRI\n",
        "        model: deepinv.models.Reconstructor, # Reconstruction model $f_\\theta$\n",
        "        physics: deepinv.physics.Physics,    # Forward operator physics $A$\n",
        "        x: torch.Tensor = None, # Ground truth, must be unused!\n",
        "        **kwargs\n",
        "    ):\n",
        "        loss_calc = ...\n",
        "        return loss_calc\n",
        "```\n",
        "2. Add your loss function as an option in [`train.py`](https://github.com/anonymous-kangaroo/ssibench/blob/main/train.py) (hint: search _\"Add your custom loss here!\"_)\n",
        "3. Benchmark your method by running [`train.py`](https://github.com/anonymous-kangaroo/ssibench/blob/main/train.py) (hint: [_\"How to use the benchmark\"_](#how-to-use-the-benchmark)).\n",
        "4. Submit your results by editing the [live leaderboard](#live-leaderboard).\n",
        "5. Open a [GitHub pull request](https://github.com/anonymous-kangaroo/ssibench/pulls) to contribute your loss! (hint: [see example here](https://github.com/anonymous-kangaroo/ssibench/pull/1); hint: [how to open a PR in GitHub](https://docs.github.com/en/pull-requests/collaborating-with-pull-requests/proposing-changes-to-your-work-with-pull-requests/creating-a-pull-request))\n",
        "\n",
        "\n",
        "### How to use a custom dataset\n",
        "\n",
        "Our modular benchmark lets you easily train and evaluate the benchmarked methods on your own setup.\n",
        "\n",
        "1. The custom dataset should have the form (see [DeepInverse docs](https://deepinv.github.io/deepinv/api/stubs/deepinv.Trainer.html#deepinv.Trainer:~:text=of%20the%20following-,options,-%3A) for details):\n",
        "```python\n",
        "class YourOwnDataset(torch.utils.data.Dataset):\n",
        "    def __getitem__(self, idx: int):\n",
        "        ...\n",
        "        # y = measurement data\n",
        "        # params = dict of physics data-dependent parameters, e.g. acceleration mask in MRI\n",
        "        return     x,     y, params # If ground truth x provided for evaluation\n",
        "        return torch.nan, y, params # If ground truth does not exist\n",
        "```\n",
        "2. Replace `dataset = ...` in [`train.py`](https://github.com/anonymous-kangaroo/ssibench/blob/main/train.py) with your own, then train/evaluate using the script as in [How to use the benchmark](#how-to-use-the-benchmark).\n",
        "\n",
        "### How to use a custom model\n",
        "\n",
        "1. The custom model should have the form (see [DeepInverse guide](https://deepinv.github.io/deepinv/user_guide/reconstruction/introduction.html) for details):\n",
        "```python\n",
        "class YourOwnModel(deepinv.models.Reconstructor):\n",
        "    def forward(\n",
        "        self, \n",
        "        y: torch.Tensor,\n",
        "        physics: deepinv.physics.Physics,\n",
        "        **kwargs\n",
        "    ):\n",
        "        x_net = ...\n",
        "        return x_net\n",
        "```\n",
        "2. Replace `model = ...` in [`train.py`](https://github.com/anonymous-kangaroo/ssibench/blob/main/train.py) with your own, then train/evaluate using the script as in [How to use the benchmark](#how-to-use-the-benchmark).\n",
        "\n",
        "### How to use a custom forward operator/acquisition strategy\n",
        "\n",
        "1. To use an alternative physics, you can use a different off-the-shelf [DeepInverse physics](https://deepinv.github.io/deepinv/user_guide/physics/physics.html) or a custom one of the form (see [DeepInverse guide](https://deepinv.github.io/deepinv/auto_examples/basics/demo_custom_physics.html) on creating custom physics):\n",
        "```python\n",
        "class YourOwnPhysics(deepinv.physics.Physics):\n",
        "    def A(self, x: torch.Tensor, **kwargs):\n",
        "        y = ...\n",
        "        return y\n",
        "    \n",
        "    def A_adjoint(self, y: torch.Tensor, **kwargs):\n",
        "        x_hat = ...\n",
        "        return x_hat\n",
        "```\n",
        "2. Replace `physics = ...` [`train.py`](https://github.com/anonymous-kangaroo/ssibench/blob/main/train.py) with your own, then train/evaluate using the script as in [How to use the benchmark](#how-to-use-the-benchmark).\n",
        "\n",
        "### How to use a custom metric\n",
        "\n",
        "1. The custom metric should have the form (see [DeepInverse docs](https://deepinv.github.io/deepinv/user_guide/training/metric.html) for details):\n",
        "```python\n",
        "class YourOwnMetric(deepinv.loss.metric.Metric):\n",
        "    def metric(\n",
        "        self, \n",
        "        x_net: torch.Tensor, # Reconstruction i.e. model output\n",
        "        x: torch.Tensor,     # Ground-truth for evaluation\n",
        "    ):\n",
        "        return ...\n",
        "```\n",
        "2. Replace `metrics = ...` in [`train.py`](https://github.com/anonymous-kangaroo/ssibench/blob/main/train.py) with your own, then train/evaluate using the script as in [How to use the benchmark](#how-to-use-the-benchmark).\n",
        "\n",
        "---"
      ]
    },
    {
      "cell_type": "markdown",
      "id": "5eaec804",
      "metadata": {},
      "source": [
        "## Live leaderboard\n",
        "\n",
        "We provide a live leaderboard for each experimental scenario described in [the paper](https://arxiv.org/abs/2502.14009). Got a new method? [Contribute it](#how-to-contribute-a-method) to the leaderboard!\n",
        "\n",
        "<details><summary>Scenario 1 (single-coil)</summary>\n",
        "\n",
        "| # |     **Loss**    | **PSNR**| **SSIM**|\n",
        "| --- | --- | --- | --- |\n",
        "| 1 | UAIR | 14.00 | .3715 |\n",
        "| 2 | Adversarial | 18.52 | .4732 |\n",
        "| 3 | MC  | 27.66 | .7861 |\n",
        "| 4 | Zero-filled | 27.67 | .7862 |\n",
        "| 5 | VORTEX | 27.75 | .7898 |\n",
        "| 6 | SSDU | 27.98 | .7485 |\n",
        "| 7 | Noise2Inverse | 28.42 | .7853 |\n",
        "| 8 | Weighted-SSDU | 29.93 | .8355 |\n",
        "| 9 | EI  | 30.26 | .8523 |\n",
        "| 10 | MOI | 30.29 | .8651 |\n",
        "| 11 | MOC-SSDU | 30.42 | .8198 |\n",
        "| 12 | SSDU-Consistency | 30.81 | .8495 |\n",
        "| 13 | MO-EI  | 32.14 | .8846 |\n",
        "| 14 | (Supervised) | 33.15 | .9032 |\n",
        "\n",
        "![](img/results_brain.png)\n",
        "\n",
        "</details>\n",
        "\n",
        "<details><summary>Scenario 2 (noisy)</summary>\n",
        "\n",
        "| # |     **Loss**    | **PSNR**| **SSIM**|\n",
        "| --- | --- | --- | --- |\n",
        "| 1 | Zero-filled | 24.34 | .4428 |\n",
        "| 2 | (Non-robust) Weighted-SSDU | 25.91 | .5477 |\n",
        "| 3 | (Non-robust) MO-EI | 26.12 | .6002 |\n",
        "| 4 | ENSURE | 26.29 | .5856 |\n",
        "| 5 | Robust-SSDU | 27.42 | .6159 |\n",
        "| 6 | Noise2Recon-SSDU | 27.84 | .7661 |\n",
        "| 7 | Robust-EI | 29.07 | .8227 |\n",
        "| 8 | Robust-MO-EI | 29.72 | .8409 |\n",
        "| 9 | (Supervised) | 30.19 | .8411 |\n",
        "\n",
        "![](img/results_brain_noisy.png)\n",
        "\n",
        "</details>\n",
        "\n",
        "<details><summary>Scenario 3 (single-operator)</summary>\n",
        "\n",
        "| # |     **Loss**    | **PSNR**| **SSIM**|\n",
        "| --- |----------------|-----|-----|\n",
        "| 1 |      UAIR      |18.44|.5388|\n",
        "| 2 |      SSDU      |21.89|.6288|\n",
        "| 3 |  Noise2Inverse |24.63|.6559|\n",
        "| 4 |   Adversarial  |26.53|.7013|\n",
        "| 5 |    MOC-SSDU    |27.85|.7717|\n",
        "| 6 |   Zero-filled  |28.02|.7900|\n",
        "| 7 |       MC       |28.02|.7900|\n",
        "| 8 |     VORTEX     |28.07|.7916|\n",
        "| 9 |  Weighted-SSDU |30.14|.8454|\n",
        "| 10 |SSDU-Consistency|31.05|.8614|\n",
        "| 11 |  MO-EI   |31.11|.8713|\n",
        "| 12 |       MOI      |31.60|.8789|\n",
        "| 13 |       EI       |31.99|.8806|\n",
        "| 14 |  (Supervised)  |34.03|.9040|\n",
        "\n",
        "![](img/results_brain_single.png)\n",
        "\n",
        "</details>\n",
        "\n",
        "<details><summary>Scenario 4 (multi-coil)</summary>\n",
        "\n",
        "| # |     **Loss**    | **PSNR**| **SSIM**|\n",
        "| --- |----------------|-----|-----|\n",
        "| 1 |      UAIR      |15.26|.3453|\n",
        "| 2 |   Adversarial  |17.47|.6464|\n",
        "| 3 |     VORTEX     |23.59|.5846|\n",
        "| 4 |   Zero-filled  |27.82|.7988|\n",
        "| 5 |       MC       |28.96|.8271|\n",
        "| 6 |  Noise2Inverse |30.93|.8589|\n",
        "| 7 |       MOI      |31.37|.8810|\n",
        "| 8 |      SSDU      |31.47|.8705|\n",
        "| 9 |  MO-EI   |31.56|.8836|\n",
        "| 10 |       EI       |31.66|.8769|\n",
        "| 11 |    MOC-SSDU    |31.80|.8761|\n",
        "| 12 |SSDU-Consistency|32.30|.8949|\n",
        "| 13 |  Weighted-SSDU |33.03|.8991|\n",
        "| 14 |  (Supervised)  |33.89|.9147|\n",
        "\n",
        "![](img/results_brain_multicoil.png)\n",
        "\n",
        "</details>"
      ]
    },
    {
      "cell_type": "markdown",
      "id": "4364ccc1",
      "metadata": {},
      "source": [
        "---\n",
        "\n",
        "## Training script step-by-step\n",
        "[![](https://colab.research.google.com/assets/colab-badge.svg)](https://colab.research.google.com/drive/15CFQ7Lp9Xk-J3ltJ6kWHIs5tk8Z4VBYD?usp=sharing)\n",
        "\n",
        "The training script makes extensive use of modular training framework provided by [DeepInverse](https://deepinv.github.io)."
      ]
    },
    {
      "cell_type": "code",
      "execution_count": null,
      "id": "6b4f8ef0",
      "metadata": {
        "vscode": {
          "languageId": "python"
        }
      },
      "outputs": [],
      "source": [
        "import deepinv as dinv\n",
        "import torch"
      ]
    },
    {
      "cell_type": "markdown",
      "id": "c99b42c6",
      "metadata": {},
      "source": [
        "Define training parameters:"
      ]
    },
    {
      "cell_type": "code",
      "execution_count": null,
      "id": "1c20ff3d",
      "metadata": {
        "vscode": {
          "languageId": "python"
        }
      },
      "outputs": [],
      "source": [
        "device = dinv.utils.get_freer_gpu() if torch.cuda.is_available() else \"cpu\"\n",
        "torch.manual_seed(0)\n",
        "torch.cuda.manual_seed(0)\n",
        "rng = torch.Generator(device=device).manual_seed(0)\n",
        "rng_cpu = torch.Generator(device=\"cpu\").manual_seed(0)\n",
        "acceleration = 6\n",
        "batch_size = 4\n",
        "lr = 1e-3\n",
        "img_size = (320, 320)\n",
        "\n",
        "class args: # Command line args from train.py\n",
        "    physics = \"mri\"\n",
        "    epochs = 0\n",
        "    loss = \"mc\"\n",
        "    ckpt = None"
      ]
    },
    {
      "cell_type": "markdown",
      "id": "ae31878f",
      "metadata": {},
      "source": [
        "Define MRI physics $A$ and mask generator $M$ according to scenario"
      ]
    },
    {
      "cell_type": "code",
      "execution_count": null,
      "id": "2f9c8e0c",
      "metadata": {
        "vscode": {
          "languageId": "python"
        }
      },
      "outputs": [],
      "source": [
        "physics_generator = dinv.physics.generator.GaussianMaskGenerator(img_size=img_size, acceleration=acceleration, rng=rng, device=device)\n",
        "physics = dinv.physics.MRI(img_size=img_size, device=device)\n",
        "\n",
        "match args.physics:\n",
        "    case \"noisy\":\n",
        "        sigma = 0.1\n",
        "        physics.noise_model = dinv.physics.GaussianNoise(sigma, rng=rng)\n",
        "    case \"multicoil\":\n",
        "        physics = dinv.physics.MultiCoilMRI(img_size=img_size, coil_maps=4, device=device)\n",
        "    case \"single\":\n",
        "        physics.update(**physics_generator.step())"
      ]
    },
    {
      "cell_type": "markdown",
      "id": "4fc395b7",
      "metadata": {},
      "source": [
        "Define model $f_\\theta$"
      ]
    },
    {
      "cell_type": "code",
      "execution_count": null,
      "id": "6e0c554b",
      "metadata": {
        "vscode": {
          "languageId": "python"
        }
      },
      "outputs": [],
      "source": [
        "denoiser = dinv.models.UNet(2, 2, scales=4, batch_norm=False)\n",
        "model = dinv.models.MoDL(denoiser=denoiser, num_iter=3).to(device)"
      ]
    },
    {
      "cell_type": "markdown",
      "id": "ada985eb",
      "metadata": {},
      "source": [
        "Define dataset"
      ]
    },
    {
      "cell_type": "code",
      "execution_count": null,
      "id": "30fa7556",
      "metadata": {
        "vscode": {
          "languageId": "python"
        }
      },
      "outputs": [],
      "source": [
        "dataset = dinv.datasets.SimpleFastMRISliceDataset(\"data\", file_name=\"fastmri_brain_singlecoil.pt\")\n",
        "train_dataset, test_dataset = torch.utils.data.random_split(dataset, (0.8, 0.2), generator=rng_cpu)"
      ]
    },
    {
      "cell_type": "markdown",
      "id": "acd8244f",
      "metadata": {},
      "source": [
        "Simulate and save random measurements"
      ]
    },
    {
      "cell_type": "code",
      "execution_count": null,
      "id": "bb0b871d",
      "metadata": {
        "vscode": {
          "languageId": "python"
        }
      },
      "outputs": [],
      "source": [
        "dataset_path = dinv.datasets.generate_dataset(\n",
        "    train_dataset=train_dataset,\n",
        "    test_dataset=test_dataset,\n",
        "    physics=physics,\n",
        "    physics_generator=physics_generator if args.physics != \"single\" else None,\n",
        "    save_physics_generator_params=True,\n",
        "    overwrite_existing=False,\n",
        "    device=device,\n",
        "    save_dir=\"data\",\n",
        "    batch_size=1,\n",
        "    dataset_filename=\"dataset_\" + args.physics\n",
        ")\n",
        "\n",
        "train_dataset = dinv.datasets.HDF5Dataset(dataset_path, split=\"train\", load_physics_generator_params=True)\n",
        "test_dataset  = dinv.datasets.HDF5Dataset(dataset_path, split=\"test\",  load_physics_generator_params=True)\n",
        "train_dataloader = torch.utils.data.DataLoader(train_dataset, batch_size=batch_size, shuffle=True, generator=rng_cpu)\n",
        "test_dataloader  = torch.utils.data.DataLoader(test_dataset,  batch_size=batch_size)"
      ]
    },
    {
      "cell_type": "markdown",
      "id": "cf8b8fe2",
      "metadata": {},
      "source": [
        "Define loss function (see [`train.py`](https://github.com/anonymous-kangaroo/ssibench/blob/main/train.py) for all options)"
      ]
    },
    {
      "cell_type": "code",
      "execution_count": null,
      "id": "1a4cc274",
      "metadata": {
        "vscode": {
          "languageId": "python"
        }
      },
      "outputs": [],
      "source": [
        "match args.loss:\n",
        "    case \"mc\":\n",
        "        loss = dinv.loss.MCLoss()\n",
        "\n",
        "    case \"...\":\n",
        "        # Add your custom loss here!\n",
        "        pass"
      ]
    },
    {
      "cell_type": "markdown",
      "id": "6e44b700",
      "metadata": {},
      "source": [
        "Define metrics"
      ]
    },
    {
      "cell_type": "code",
      "execution_count": null,
      "id": "c1c48571",
      "metadata": {
        "vscode": {
          "languageId": "python"
        }
      },
      "outputs": [],
      "source": [
        "metrics = [\n",
        "    dinv.metric.PSNR(complex_abs=True),\n",
        "    dinv.metric.SSIM(complex_abs=True)\n",
        "]"
      ]
    },
    {
      "cell_type": "markdown",
      "id": "39576e24",
      "metadata": {},
      "source": [
        "Define trainer"
      ]
    },
    {
      "cell_type": "code",
      "execution_count": null,
      "id": "dd28f1fc",
      "metadata": {
        "vscode": {
          "languageId": "python"
        }
      },
      "outputs": [],
      "source": [
        "trainer = dinv.Trainer(\n",
        "    model = model,\n",
        "    physics = physics,\n",
        "    optimizer = torch.optim.Adam(model.parameters(), lr=lr),\n",
        "    train_dataloader = train_dataloader,\n",
        "    eval_dataloader = test_dataloader,\n",
        "    epochs = args.epochs,\n",
        "    losses = loss,\n",
        "    metrics = metrics,\n",
        "    device = device,\n",
        "    ckpt_pretrained=args.ckpt,\n",
        ")"
      ]
    },
    {
      "cell_type": "code",
      "execution_count": null,
      "id": "ab5254b4",
      "metadata": {
        "vscode": {
          "languageId": "python"
        }
      },
      "outputs": [],
      "source": [
        "#| code-fold: true\n",
        "#| code-summary: Define additional adversarial trainer (if needed)\n",
        "\n",
        "if args.loss in (\"uair\", \"adversarial\"):\n",
        "    trainer = dinv.training.AdversarialTrainer(\n",
        "        model = model,\n",
        "        physics = physics,\n",
        "        optimizer = dinv.training.AdversarialOptimizer(\n",
        "            torch.optim.Adam(model.parameters(), lr=lr), \n",
        "            torch.optim.Adam(discrim.parameters(), lr=lr)\n",
        "        ),\n",
        "        train_dataloader = train_dataloader,\n",
        "        eval_dataloader = test_dataloader,\n",
        "        epochs = args.epochs,\n",
        "        losses = loss,\n",
        "        metrics = metrics,\n",
        "        device = device,\n",
        "        ckpt_pretrained=args.ckpt,\n",
        "    )\n",
        "\n",
        "    trainer.D = discrim\n",
        "    trainer.losses_d = loss_d"
      ]
    },
    {
      "cell_type": "markdown",
      "id": "58b5cd21",
      "metadata": {},
      "source": [
        "Train or evaluate!"
      ]
    },
    {
      "cell_type": "code",
      "execution_count": null,
      "id": "f48b403a",
      "metadata": {
        "vscode": {
          "languageId": "python"
        }
      },
      "outputs": [],
      "source": [
        "trainer.train()\n",
        "\n",
        "print(trainer.test(test_dataloader))"
      ]
    },
    {
      "cell_type": "markdown",
      "id": "d70f005d",
      "metadata": {},
      "source": [
        "# Dataset preparation instructions\n",
        "\n",
        "To prepare the fastMRI dataset `fastmri_brain_singlecoil.pt` used in [`train.py`](https://github.com/anonymous-kangaroo/ssibench/blob/main/train.py) for the benchmark experiments, we make use of the [fastMRI wrapper in DeepInverse](https://deepinv.github.io/deepinv/api/stubs/deepinv.datasets.FastMRISliceDataset.html).\n",
        "\n",
        "1. Download [fastMRI](https://fastmri.med.nyu.edu/) brain dataset batch 0: `brain_multicoil_train_batch_0` (~98.5 GB)\n",
        "2. Generate an efficient dataset of the middle slices (note that this is deterministic, and the random masks & noise are simulated in [`train.py`](https://github.com/anonymous-kangaroo/ssibench/blob/main/train.py)):"
      ]
    },
    {
      "cell_type": "code",
      "execution_count": null,
      "id": "829356f5",
      "metadata": {
        "vscode": {
          "languageId": "python"
        }
      },
      "outputs": [],
      "source": [
        "dataset = deepinv.datasets.FastMRISliceDataset(\n",
        "    \"/path/to/fastmri/brain/multicoil_train\", \n",
        "    slice_index=\"middle\"\n",
        ")\n",
        "\n",
        "dataset.save_simple_dataset(\"data/fastmri_brain_singlecoil.pt\")"
      ]
    }
  ],
  "metadata": {
    "kernelspec": {
      "display_name": "Python 3 (ipykernel)",
      "language": "python",
      "name": "python3"
    }
  },
  "nbformat": 4,
  "nbformat_minor": 5
}
